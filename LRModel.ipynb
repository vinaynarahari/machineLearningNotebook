{
 "cells": [
  {
   "cell_type": "code",
   "execution_count": 2,
   "metadata": {},
   "outputs": [
    {
     "name": "stdout",
     "output_type": "stream",
     "text": [
      "40 10 40 10\n"
     ]
    }
   ],
   "source": [
    "'''\n",
    "Machine Learning Break Down:\n",
    "1. Get data into a numerical representation\n",
    "2. Build a model to learn pattern in that numerical representation\n",
    "\n",
    "Tensors Represent Inputs \n",
    "Neural Networks Represent those patterns/features/weights\n",
    "'''\n",
    "\n",
    "\n",
    "import torch\n",
    "import pandas as pd \n",
    "import numpy as np \n",
    "import matplotlib.pyplot as plt \n",
    "\n",
    "start = 0\n",
    "end = 1\n",
    "step = .02\n",
    "bias =  0.3\n",
    "weight = 0.7\n",
    "X = torch.arange(start,end, step).unsqueeze(dim =1)\n",
    "\n",
    "y= weight * X + bias\n",
    "\n",
    "\n",
    "train_split = int(.8 * len(X))\n",
    "\n",
    "\n",
    "X_train, y_train = X[:train_split], y[:train_split]\n",
    "\n",
    "X_test, y_test = X[train_split:], y[train_split:]\n",
    "\n",
    "\n",
    "\n",
    "print(len(X_train), len(X_test) , len(y_train), len(y_test))\n",
    "\n",
    "\n"
   ]
  },
  {
   "cell_type": "code",
   "execution_count": 3,
   "metadata": {},
   "outputs": [
    {
     "name": "stdout",
     "output_type": "stream",
     "text": [
      "hello world\n",
      "Shape of train_data: torch.Size([40, 1])\n",
      "Shape of x_data: torch.Size([40, 1])\n",
      "Shape of train_label: torch.Size([40, 1])\n",
      "Shape of test_data: torch.Size([10, 1])\n",
      "Shape of test_label: torch.Size([10, 1])\n",
      "<matplotlib.collections.PathCollection object at 0x1775d9600>\n",
      "<matplotlib.collections.PathCollection object at 0x1775d9a80>\n",
      "Legend\n"
     ]
    },
    {
     "data": {
      "image/png": "[encoded data removed]",
      "text/plain": [
       "<Figure size 640x480 with 1 Axes>"
      ]
     },
     "metadata": {},
     "output_type": "display_data"
    },
    {
     "name": "stdout",
     "output_type": "stream",
     "text": [
      "None\n"
     ]
    }
   ],
   "source": [
    "def plot_predictions(train_data = X_train, train_label = y_train, test_data = X_test, test_label = y_test, predictions = None ):\n",
    "    print(\"hello world\")\n",
    "\n",
    "    print(\"Shape of train_data:\", train_data.shape)\n",
    "    print(\"Shape of x_data:\", X_train.shape)\n",
    "    print(\"Shape of train_label:\", train_label.shape)\n",
    "    print(\"Shape of test_data:\", test_data.shape)\n",
    "    print(\"Shape of test_label:\", test_label.shape)\n",
    "    #plotting training data\n",
    "    print(plt.scatter(train_data, train_label, c = \"b\", s =4, label = \"Training Data\" ))\n",
    "\n",
    "    #plotting testing data\n",
    "    print(plt.scatter(test_data, test_label, s =4, label = \"Testing Data\" ))\n",
    "\n",
    "    if predictions is not None:\n",
    "        print(plt.scatter(test_data, predictions, c= \"r\", s=4, label = \"Predictions\"))\n",
    "\n",
    "\n",
    "    #show the legend\n",
    "    print(plt.legend(prop={\"size\": 14}))\n",
    "\n",
    "    print(plt.show())\n",
    "\n",
    "plot_predictions(X_train, y_train, X_test, y_test, None)"
   ]
  },
  {
   "cell_type": "code",
   "execution_count": 10,
   "metadata": {},
   "outputs": [],
   "source": [
    "# creating linear regression class\n",
    "from torch import nn\n",
    "class LinearRegressionModel(nn.Module): # this is python inhertance example as LinearRegressionModel is inheriting from nn.Module\n",
    "    def __init__(self): # python constructor syntax and super\n",
    "        super().__init__() \n",
    "        self.weights = nn.Parameter(torch.randn(\n",
    "                                                1, \n",
    "                                                requires_grad= True,\n",
    "                                                dtype= torch.float  \n",
    "                                                ))\n",
    "        self.bias = nn.Parameter(torch.randn(\n",
    "                                                1,\n",
    "                                                requires_grad= True, # default is true and this is for gradient descent\n",
    "                                                dtype= torch.float # this is default and float defaults to float32\n",
    "                                                ))\n",
    "    # forward method for computation\n",
    "        \n",
    "    def forward(self, x: torch.Tensor) -> torch.Tensor: # when implementing nn.module a forward method is nescesary \n",
    "        return self.weights * x + self.bias # this is the linear regression formula"
   ]
  },
  {
   "attachments": {},
   "cell_type": "markdown",
   "metadata": {},
   "source": [
    "What the model above is doing: <br>\n",
    "    *  Start with random values for the wieght + bias  <br>\n",
    "    *  Look at the training data and adjust  the values so that they are a closer and better representation of the weights + bias used to create traning data \n",
    "    \n",
    "\n",
    "How is this done? <br>\n",
    "   &emsp; Two Main Algorithms: <br>\n",
    "     &emsp; &emsp;    1.  Gradient Descent <br>\n",
    "     &emsp; &emsp;    2. Back Propagation\n",
    "\n",
    "\n"
   ]
  },
  {
   "attachments": {},
   "cell_type": "markdown",
   "metadata": {},
   "source": [
    "Pytorch Essentials\n",
    "\n",
    "&emsp; *   torch.nn - contains all the buildings for computational graphs (like neural networks) <br>\n",
    "&emsp; *   torch.nn.Parameter - what paramters the model shoudl try and learn, most times a pytorch layer from torch.nn will automatically set this <br>\n",
    "&emsp; *   torch.nm.Module - base case for all neural networks modules but if you create a subclass that inherits you need to overwrite forward() <br>\n",
    "&emsp; *   torch.optim - this is for fine tuning gradient descent for a particular algorithm in order to efficiently find the min <br>\n",
    "&emsp; *   torch.utils.data.Dataset - represents a map with label feature pariing for key and value of the data <br>\n",
    "&emsp; *   torch.utls.data.Dataloader - creates an interator to go through dataset "
   ]
  },
  {
   "cell_type": "code",
   "execution_count": 11,
   "metadata": {},
   "outputs": [
    {
     "name": "stdout",
     "output_type": "stream",
     "text": [
      "LinearRegressionModel()\n"
     ]
    }
   ],
   "source": [
    "torch.manual_seed(42)\n",
    "\n",
    "lrModel_0 = LinearRegressionModel()\n",
    "\n",
    "print(lrModel_0)"
   ]
  },
  {
   "cell_type": "code",
   "execution_count": null,
   "metadata": {},
   "outputs": [],
   "source": []
  }
 ],
 "metadata": {
  "kernelspec": {
   "display_name": "Python 3",
   "language": "python",
   "name": "python3"
  },
  "language_info": {
   "codemirror_mode": {
    "name": "ipython",
    "version": 3
   },
   "file_extension": ".py",
   "mimetype": "text/x-python",
   "name": "python",
   "nbconvert_exporter": "python",
   "pygments_lexer": "ipython3",
   "version": "3.10.10"
  },
  "orig_nbformat": 4
 },
 "nbformat": 4,
 "nbformat_minor": 2
}
