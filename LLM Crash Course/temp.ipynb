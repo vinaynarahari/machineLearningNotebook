{
 "cells": [
  {
   "attachments": {},
   "cell_type": "markdown",
   "metadata": {},
   "source": [
    "# General Lessons about Natural Lanuage Processing\n",
    "\n",
    "- Word embeddings work by vectorizing all the words so that the ones that are the most similar to eachother are the closest to eachother\n",
    "- Way we can define embedding using pytorch is through `nn.Embeddings` and defining it in the constructor of your model similar to what we did before with CNN's\n",
    "\n",
    "\n",
    "\n",
    "\n",
    "\n",
    "## Here's a sample model build out \n"
   ]
  },
  {
   "cell_type": "code",
   "execution_count": null,
   "metadata": {},
   "outputs": [],
   "source": [
    "import torch \n",
    "from torch import nn\n",
    "\n",
    "\n",
    "\n",
    "class SentimentAnalysisModel(nn.Module):\n",
    "    def __init__(self, vocab_size):\n",
    "        self.embeddings = nn.Embedding(vocab_size, 16) \n",
    "        '''\n",
    "            The idea by setting the words into a 16 dimension vector. We are essentially extracting more features from the data so that we when\n",
    "            we consolidate and train the data we are able to pick on more relationships between the data to get better results. \n",
    "        '''\n",
    "\n",
    "        self.linear = nn.linear(in_features = 16, out_features= 1)\n",
    "        self.sigmoid = nn.Sigmoid()\n",
    "\n",
    "    def forward(self, x):\n",
    "        word_embeddings = self.embeddings(x)\n",
    "        averaged = torch.mean(word_embeddings, dim = 1)\n",
    "\n",
    "        return self.sigmoid(self.linear(averaged)) # shape will be 2 by 1"
   ]
  }
 ],
 "metadata": {
  "kernelspec": {
   "display_name": "base",
   "language": "python",
   "name": "python3"
  },
  "language_info": {
   "name": "python",
   "version": "3.10.10"
  },
  "orig_nbformat": 4
 },
 "nbformat": 4,
 "nbformat_minor": 2
}
