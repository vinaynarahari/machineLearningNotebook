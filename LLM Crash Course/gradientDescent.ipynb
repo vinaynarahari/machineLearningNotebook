{
 "cells": [
  {
   "attachments": {},
   "cell_type": "markdown",
   "metadata": {},
   "source": [
    "## Coding out Gradient Descent"
   ]
  },
  {
   "cell_type": "code",
   "execution_count": null,
   "metadata": {},
   "outputs": [],
   "source": [
    "# this is assuming that the code is for a x^2 function \n",
    "\n",
    "def gradD(self, iterations: int, learning_rate: float, init: int) -> float:\n",
    "    for i in range(iterations):\n",
    "        d = 2 * init # this is getting the derivitive for normal gradient descent it would be the deriv of the function\n",
    "        init = init - d * learning_rate\n",
    "\n",
    "    return init"
   ]
  }
 ],
 "metadata": {
  "language_info": {
   "name": "python"
  },
  "orig_nbformat": 4
 },
 "nbformat": 4,
 "nbformat_minor": 2
}
