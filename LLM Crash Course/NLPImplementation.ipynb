{
 "cells": [
  {
   "attachments": {},
   "cell_type": "markdown",
   "metadata": {},
   "source": [
    "## Intro to Natural Language Processing\n",
    "\n",
    "Inputs: <br>\n",
    "• positive - a list of strings, each with positive emotion <br>\n",
    "• negative - a list of strings, each with negative emotion<br>\n",
    "\n",
    "\n",
    "\n",
    "In this problem, you will load in a raw body of text and set it up for training. ChatGPT uses the entire text of the internet for training, but in this problem we will use Amazon product reviews and Tweets\n",
    "Your task is to encode the input dataset of strings as an integer tensor of size 2 - N x T, where T is the length of the longest string. The lexicographically first word should be represented as 1, the second as 2, and so on. In the final tensor, list the positive encodings, in order, before the negative encodings."
   ]
  },
  {
   "cell_type": "code",
   "execution_count": null,
   "metadata": {},
   "outputs": [],
   "source": [
    "import torch \n",
    "from torch import nn\n",
    "\n",
    "\n",
    "class Solution:\n",
    "    def get_dataset(self, positive: List[str] , negaitve: List[str]) -> TensorType[float]:\n",
    "\n",
    "        '''\n",
    "        Inputs for this function:\n",
    "\n",
    "            * A list of all the positive strings\n",
    "            * A list of all the negative strings\n",
    "        \n",
    "        '''"
   ]
  }
 ],
 "metadata": {
  "language_info": {
   "name": "python"
  },
  "orig_nbformat": 4
 },
 "nbformat": 4,
 "nbformat_minor": 2
}
